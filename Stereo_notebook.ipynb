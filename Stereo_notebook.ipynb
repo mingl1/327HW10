{
 "cells": [
  {
   "cell_type": "code",
   "execution_count": 1,
   "metadata": {},
   "outputs": [],
   "source": [
    "import numpy as np\n",
    "import PIL.Image as Image\n",
    "import matplotlib.pyplot as plt\n",
    "def im2col_sliding_strided(A, BSZ, stepsize=1):\n",
    "    # Parameters\n",
    "    m,n = A.shape\n",
    "    s0, s1 = A.strides    \n",
    "    nrows = m-BSZ[0]+1\n",
    "    ncols = n-BSZ[1]+1\n",
    "    shp = BSZ[0],BSZ[1],nrows,ncols\n",
    "    strd = s0,s1,s0,s1\n",
    "    \n",
    "    out_view = np.lib.stride_tricks.as_strided(A, shape=shp, strides=strd)\n",
    "    return out_view.reshape(BSZ[0]*BSZ[1],-1)[:,::stepsize]"
   ]
  },
  {
   "cell_type": "code",
   "execution_count": 36,
   "metadata": {},
   "outputs": [
    {
     "name": "stdout",
     "output_type": "stream",
     "text": [
      "275 350\n"
     ]
    }
   ],
   "source": [
    "left = Image.open('Cones_Left.ppm').convert('L')\n",
    "right = Image.open('./Cones_Right.ppm').convert('L')\n",
    "left_arr = np.array(left)[:-100,:-100]\n",
    "right_arr = np.array(right)[:-100,:-100]\n",
    "N,M = left_arr.shape\n",
    "print(N,M)"
   ]
  },
  {
   "cell_type": "code",
   "execution_count": 49,
   "metadata": {},
   "outputs": [],
   "source": [
    "L = im2col_sliding_strided(left_arr,(3,3))\n",
    "R = im2col_sliding_strided(right_arr,(3,3))"
   ]
  },
  {
   "cell_type": "code",
   "execution_count": 50,
   "metadata": {},
   "outputs": [],
   "source": [
    "for i in range(L.shape[1]):\n",
    "    a = L[:,i]\n",
    "    b = R[:,i]\n",
    "    norm_a = np.linalg.norm(a)\n",
    "    norm_b = np.linalg.norm(b)\n",
    "    L[:,i] = (a - np.mean(a)) /norm_a\n",
    "    R[:,i] = (b - np.mean(b))/norm_b"
   ]
  },
  {
   "cell_type": "code",
   "execution_count": 34,
   "metadata": {},
   "outputs": [
    {
     "data": {
      "text/plain": [
       "((95004, 9), (9, 95004))"
      ]
     },
     "execution_count": 34,
     "metadata": {},
     "output_type": "execute_result"
    }
   ],
   "source": [
    "L.shape, R.shape"
   ]
  },
  {
   "cell_type": "code",
   "execution_count": 52,
   "metadata": {},
   "outputs": [
    {
     "data": {
      "text/plain": [
       "(0, 0)"
      ]
     },
     "execution_count": 52,
     "metadata": {},
     "output_type": "execute_result"
    }
   ],
   "source": [
    "DSI = 1-(np.dot(L.T,R[:,12000]))\n",
    "L.sum(), R.sum()"
   ]
  },
  {
   "cell_type": "code",
   "execution_count": 53,
   "metadata": {},
   "outputs": [
    {
     "data": {
      "text/plain": [
       "<matplotlib.image.AxesImage at 0x20b61d0cf48>"
      ]
     },
     "execution_count": 53,
     "metadata": {},
     "output_type": "execute_result"
    },
    {
     "data": {
      "image/png": "[encoded data removed]",
      "text/plain": [
       "<Figure size 640x480 with 1 Axes>"
      ]
     },
     "metadata": {},
     "output_type": "display_data"
    }
   ],
   "source": [
    "plt.imshow(DSI.reshape(N-2,M-2),cmap='gray')"
   ]
  },
  {
   "cell_type": "code",
   "execution_count": 31,
   "metadata": {},
   "outputs": [],
   "source": [
    "occ = 0.1\n",
    "r = np.zeros((N-2,M-2))\n",
    "for row in range(DSI.shape[1]):\n",
    "  Z = DSI[:,i].reshape(N-2,M-2)\n",
    "  x = list()\n",
    "  C = np.zeros((N-2,M-2))\n",
    "  K = np.zeros((N-2,M-2))\n",
    "  for i in range(1,Z.shape[0]):\n",
    "    C[i,0] = i*occ\n",
    "  for j in range(1,Z.shape[1]):\n",
    "    C[0,j] = j*occ\n",
    "  for i in range(1,Z.shape[0]):\n",
    "    for j in range(1,Z.shape[1]):\n",
    "      C[i,j] = min(C[i-1,j]+occ,C[i,j-1]+occ,C[i-1][j-1]+Z[i,j])\n",
    "      if(C[i,j] == C[i-1,j-1]+Z[i,j]):\n",
    "        K[i,j] = 1\n",
    "      elif(C[i,j] == C[i-1,j]+occ):\n",
    "        K[i,j] = 2\n",
    "      else:\n",
    "        K[i,j] = 3\n",
    "  p,q = Z.shape\n",
    "  while(p>0 and q>0):\n",
    "    if(K[p-1,q-1] == 1):\n",
    "      p = p-1\n",
    "      q = q-1\n",
    "      r[row,p] = Z[p,q]\n",
    "    elif(K[p-1,q-1] == 2):\n",
    "      p = p-1\n",
    "    else:\n",
    "      q = q-1\n",
    "  r[:,i] = x.reverse()\n",
    "\n"
   ]
  },
  {
   "cell_type": "code",
   "execution_count": 35,
   "metadata": {},
   "outputs": [
    {
     "data": {
      "text/plain": [
       "array([0., 0., 0., 0., 0., 0., 0., 0., 0., 0., 0., 0., 0., 0., 0., 0., 0.,\n",
       "       0., 0., 0., 0., 0., 0., 0., 0., 0., 0., 0., 0., 0., 0., 0., 0., 0.,\n",
       "       0., 0., 0., 0., 0., 0., 0., 0., 0., 0., 0., 0., 0., 0.])"
      ]
     },
     "execution_count": 35,
     "metadata": {},
     "output_type": "execute_result"
    }
   ],
   "source": [
    "# plt.imshow(r)\n",
    "r[:,1]"
   ]
  },
  {
   "cell_type": "code",
   "execution_count": null,
   "metadata": {},
   "outputs": [],
   "source": []
  }
 ],
 "metadata": {
  "kernelspec": {
   "display_name": "udacity",
   "language": "python",
   "name": "python3"
  },
  "language_info": {
   "codemirror_mode": {
    "name": "ipython",
    "version": 3
   },
   "file_extension": ".py",
   "mimetype": "text/x-python",
   "name": "python",
   "nbconvert_exporter": "python",
   "pygments_lexer": "ipython3",
   "version": "3.7.6"
  }
 },
 "nbformat": 4,
 "nbformat_minor": 2
}
